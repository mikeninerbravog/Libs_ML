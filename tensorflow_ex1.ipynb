{
  "nbformat": 4,
  "nbformat_minor": 0,
  "metadata": {
    "colab": {
      "provenance": [],
      "gpuType": "T4",
      "authorship_tag": "ABX9TyMoBA+5IE8nq/0J/AYDiNOK",
      "include_colab_link": true
    },
    "kernelspec": {
      "name": "python3",
      "display_name": "Python 3"
    },
    "language_info": {
      "name": "python"
    },
    "accelerator": "GPU"
  },
  "cells": [
    {
      "cell_type": "markdown",
      "metadata": {
        "id": "view-in-github",
        "colab_type": "text"
      },
      "source": [
        "<a href=\"https://colab.research.google.com/github/mikeninerbravog/Libs_ML/blob/master/tensorflow_ex1.ipynb\" target=\"_parent\"><img src=\"https://colab.research.google.com/assets/colab-badge.svg\" alt=\"Open In Colab\"/></a>"
      ]
    },
    {
      "cell_type": "code",
      "execution_count": 6,
      "metadata": {
        "colab": {
          "base_uri": "https://localhost:8080/",
          "height": 944
        },
        "collapsed": true,
        "id": "ri0hb-_tjSJm",
        "outputId": "1e81673e-514c-4ccf-93c8-7873496f4de4"
      },
      "outputs": [
        {
          "output_type": "stream",
          "name": "stdout",
          "text": [
            "Epoch 1/5\n",
            "\u001b[1m1875/1875\u001b[0m \u001b[32m━━━━━━━━━━━━━━━━━━━━\u001b[0m\u001b[37m\u001b[0m \u001b[1m6s\u001b[0m 2ms/step - accuracy: 0.8598 - loss: 0.4781\n",
            "Epoch 2/5\n",
            "\u001b[1m1875/1875\u001b[0m \u001b[32m━━━━━━━━━━━━━━━━━━━━\u001b[0m\u001b[37m\u001b[0m \u001b[1m4s\u001b[0m 2ms/step - accuracy: 0.9533 - loss: 0.1534\n",
            "Epoch 3/5\n",
            "\u001b[1m1875/1875\u001b[0m \u001b[32m━━━━━━━━━━━━━━━━━━━━\u001b[0m\u001b[37m\u001b[0m \u001b[1m5s\u001b[0m 3ms/step - accuracy: 0.9674 - loss: 0.1091\n",
            "Epoch 4/5\n",
            "\u001b[1m1875/1875\u001b[0m \u001b[32m━━━━━━━━━━━━━━━━━━━━\u001b[0m\u001b[37m\u001b[0m \u001b[1m4s\u001b[0m 2ms/step - accuracy: 0.9715 - loss: 0.0901\n",
            "Epoch 5/5\n",
            "\u001b[1m1875/1875\u001b[0m \u001b[32m━━━━━━━━━━━━━━━━━━━━\u001b[0m\u001b[37m\u001b[0m \u001b[1m6s\u001b[0m 2ms/step - accuracy: 0.9773 - loss: 0.0729\n",
            "313/313 - 1s - 3ms/step - accuracy: 0.9783 - loss: 0.0741\n",
            "Precisão no teste: 0.9783\n",
            "\u001b[1m313/313\u001b[0m \u001b[32m━━━━━━━━━━━━━━━━━━━━\u001b[0m\u001b[37m\u001b[0m \u001b[1m1s\u001b[0m 2ms/step\n",
            "Epoch 1/5\n",
            "\u001b[1m1875/1875\u001b[0m \u001b[32m━━━━━━━━━━━━━━━━━━━━\u001b[0m\u001b[37m\u001b[0m \u001b[1m5s\u001b[0m 2ms/step - accuracy: 0.8573 - loss: 0.4848\n",
            "Epoch 2/5\n",
            "\u001b[1m1875/1875\u001b[0m \u001b[32m━━━━━━━━━━━━━━━━━━━━\u001b[0m\u001b[37m\u001b[0m \u001b[1m5s\u001b[0m 3ms/step - accuracy: 0.9542 - loss: 0.1539\n",
            "Epoch 3/5\n",
            "\u001b[1m1875/1875\u001b[0m \u001b[32m━━━━━━━━━━━━━━━━━━━━\u001b[0m\u001b[37m\u001b[0m \u001b[1m4s\u001b[0m 2ms/step - accuracy: 0.9656 - loss: 0.1147\n",
            "Epoch 4/5\n",
            "\u001b[1m1875/1875\u001b[0m \u001b[32m━━━━━━━━━━━━━━━━━━━━\u001b[0m\u001b[37m\u001b[0m \u001b[1m6s\u001b[0m 3ms/step - accuracy: 0.9729 - loss: 0.0895\n",
            "Epoch 5/5\n",
            "\u001b[1m1875/1875\u001b[0m \u001b[32m━━━━━━━━━━━━━━━━━━━━\u001b[0m\u001b[37m\u001b[0m \u001b[1m4s\u001b[0m 2ms/step - accuracy: 0.9755 - loss: 0.0775\n",
            "313/313 - 1s - 3ms/step - accuracy: 0.9784 - loss: 0.0712\n",
            "Precisão no teste: 0.9784\n",
            "\u001b[1m313/313\u001b[0m \u001b[32m━━━━━━━━━━━━━━━━━━━━\u001b[0m\u001b[37m\u001b[0m \u001b[1m1s\u001b[0m 2ms/step\n"
          ]
        },
        {
          "output_type": "display_data",
          "data": {
            "text/plain": [
              "<Figure size 640x480 with 1 Axes>"
            ],
            "image/png": "[encoded data removed]"
          },
          "metadata": {}
        },
        {
          "output_type": "stream",
          "name": "stdout",
          "text": [
            "Predição: [2.3650537e-07 1.6068397e-10 5.5108453e-06 1.7731130e-05 5.4260741e-12\n",
            " 1.9066396e-08 5.2987336e-15 9.9997592e-01 1.1102446e-08 5.9083368e-07]\n"
          ]
        }
      ],
      "source": [
        "\"\"\"\n",
        "Script prático usando TensorFlow e Keras para treinar um modelo simples de classificação com um conjunto de dados real:\n",
        "o famoso dataset MNIST, que contém imagens de números escritos à mão (0 a 9). O modelo aprenderá a reconhecer os números.\n",
        "\n",
        "O que esse script faz?\n",
        "- Baixa o conjunto de dados MNIST.\n",
        "- Processa as imagens e os rótulos.\n",
        "- Cria uma Rede Neural simples usando Keras.\n",
        "- Treina o modelo e testa sua precisão.\n",
        "\"\"\"\n",
        "\n",
        "import tensorflow as tf\n",
        "from tensorflow import keras\n",
        "import matplotlib.pyplot as plt\n",
        "\n",
        "# 1. Carregar o dataset MNIST (imagens de dígitos de 0 a 9)\n",
        "(x_train, y_train), (x_test, y_test) = keras.datasets.mnist.load_data()\n",
        "\n",
        "# 2. Normalizar os dados (deixar os valores entre 0 e 1 para facilitar o aprendizado)\n",
        "x_train, x_test = x_train / 255.0, x_test / 255.0\n",
        "\n",
        "# 3. Criar a rede neural\n",
        "modelo = keras.Sequential([\n",
        "    keras.layers.Flatten(input_shape=(28, 28)),   # Achata a imagem 28x28 em um vetor 1D\n",
        "    keras.layers.Dense(128, activation='relu'),   # Camada oculta com 128 neurônios\n",
        "    keras.layers.Dropout(0.2),                    # Dropout para evitar overfitting\n",
        "    keras.layers.Dense(10, activation='softmax')  # Camada de saída com 10 neurônios (um para cada número)\n",
        "])\n",
        "\n",
        "# 4. Compilar o modelo\n",
        "modelo.compile(optimizer='adam',\n",
        "               loss='sparse_categorical_crossentropy',\n",
        "               metrics=['accuracy'])\n",
        "\n",
        "# 5. Treinar o modelo\n",
        "modelo.fit(x_train, y_train, epochs=5)\n",
        "\n",
        "# 6. Avaliar a precisão do modelo\n",
        "test_loss, test_acc = modelo.evaluate(x_test, y_test, verbose=2)\n",
        "print(f'Precisão no teste: {test_acc:.4f}')\n",
        "\n",
        "# 7. Fazer uma previsão com uma imagem de teste\n",
        "predicoes = modelo.predict(x_test)\n",
        "import tensorflow as tf\n",
        "from tensorflow import keras\n",
        "import matplotlib.pyplot as plt\n",
        "\n",
        "# 1. Carregar o dataset MNIST (imagens de dígitos de 0 a 9)\n",
        "(x_train, y_train), (x_test, y_test) = keras.datasets.mnist.load_data()\n",
        "\n",
        "# 2. Normalizar os dados (deixar os valores entre 0 e 1 para facilitar o aprendizado)\n",
        "x_train, x_test = x_train / 255.0, x_test / 255.0\n",
        "\n",
        "# 3. Criar a rede neural\n",
        "modelo = keras.Sequential([\n",
        "    keras.layers.Flatten(input_shape=(28, 28)),  # Achata a imagem 28x28 em um vetor 1D\n",
        "    keras.layers.Dense(128, activation='relu'),  # Camada oculta com 128 neurônios\n",
        "    keras.layers.Dropout(0.2),  # Dropout para evitar overfitting\n",
        "    keras.layers.Dense(10, activation='softmax')  # Camada de saída com 10 neurônios (um para cada número)\n",
        "])\n",
        "\n",
        "# 4. Compilar o modelo\n",
        "modelo.compile(optimizer='adam',\n",
        "               loss='sparse_categorical_crossentropy',\n",
        "               metrics=['accuracy'])\n",
        "\n",
        "# 5. Treinar o modelo\n",
        "modelo.fit(x_train, y_train, epochs=5)\n",
        "\n",
        "# 6. Avaliar a precisão do modelo\n",
        "test_loss, test_acc = modelo.evaluate(x_test, y_test, verbose=2)\n",
        "print(f'Precisão no teste: {test_acc:.4f}')\n",
        "\n",
        "# 7. Fazer uma previsão com uma imagem de teste\n",
        "predicoes = modelo.predict(x_test)\n",
        "\n",
        "# 8. Exibir a primeira imagem de teste e a previsão do modelo\n",
        "plt.imshow(x_test[0], cmap='gray')\n",
        "plt.show()\n",
        "print(f\"Predição: {predicoes[0]}\")"
      ]
    },
    {
      "cell_type": "markdown",
      "source": [
        "### **Explicação do Código:**  \n",
        "1. **Carregamos o dataset MNIST**: Ele contém **60.000 imagens para treino** e **10.000 para teste**.  \n",
        "2. **Normalizamos os valores**: Os pixels vão de 0 a 255, mas transformamos para 0 a 1 para facilitar o aprendizado.  \n",
        "3. **Criamos um modelo de rede neural**:  \n",
        "   - **Flatten:** Transforma a imagem 28x28 em uma única linha de 784 números.  \n",
        "   - **Dense (128 neurônios, ReLU):** Camada intermediária para aprender padrões.  \n",
        "   - **Dropout (20% dos neurônios desligados aleatoriamente):** Evita overfitting.  \n",
        "   - **Dense (10 neurônios, Softmax):** Define a saída (número de 0 a 9).  \n",
        "4. **Compilamos o modelo**: Escolhemos um otimizador (`adam`) e uma função de erro (`sparse_categorical_crossentropy`).  \n",
        "5. **Treinamos o modelo** por 5 épocas (ciclos de aprendizado).  \n",
        "6. **Testamos a precisão** em imagens que o modelo nunca viu.  \n",
        "7. **Fazemos previsões** e mostramos a imagem junto com o número previsto.  \n",
        "\n",
        "---\n",
        "\n",
        "### **Saída esperada do script:**  \n",
        "- O modelo atinge cerca de **98% de precisão** no conjunto de teste.  \n",
        "- Exibe uma imagem junto com a previsão do número reconhecido.  \n",
        "\n",
        "Esse é um exemplo **prático e funcional** do **TensorFlow** em ação."
      ],
      "metadata": {
        "id": "5JLh7_fvlITW"
      }
    }
  ]
}